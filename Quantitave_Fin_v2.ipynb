{
  "nbformat": 4,
  "nbformat_minor": 0,
  "metadata": {
    "colab": {
      "name": "Quantitave_Fin_v2.ipynb",
      "provenance": [],
      "collapsed_sections": [],
      "authorship_tag": "ABX9TyPZyXCLTcDR7JlxCo+F8p2x",
      "include_colab_link": true
    },
    "kernelspec": {
      "name": "python3",
      "display_name": "Python 3"
    }
  },
  "cells": [
    {
      "cell_type": "markdown",
      "metadata": {
        "id": "view-in-github",
        "colab_type": "text"
      },
      "source": [
        "<a href=\"https://colab.research.google.com/github/PCHEN3/UvA/blob/main/Quantitave_Fin_v2.ipynb\" target=\"_parent\"><img src=\"https://colab.research.google.com/assets/colab-badge.svg\" alt=\"Open In Colab\"/></a>"
      ]
    },
    {
      "cell_type": "markdown",
      "metadata": {
        "id": "PSq0hLVkFOkU"
      },
      "source": [
        "## Load packages\n"
      ]
    },
    {
      "cell_type": "code",
      "metadata": {
        "id": "32guZwzgFOGy"
      },
      "source": [
        "import os\n",
        "import pandas as pd\n",
        "import numpy as np\n",
        "import statsmodels.api as sm\n",
        "# !pip install plotnine\n",
        "import plotnine as p9\n",
        "from matplotlib import pyplot as plt"
      ],
      "execution_count": null,
      "outputs": []
    },
    {
      "cell_type": "markdown",
      "metadata": {
        "id": "u89JI5RDFSMd"
      },
      "source": [
        "## Import data"
      ]
    },
    {
      "cell_type": "code",
      "metadata": {
        "id": "0Ru-HaFfFWVK"
      },
      "source": [
        "ff = 'https://raw.githubusercontent.com/PCHEN3/UvA/main/DE_FF_Factors.csv'\n",
        "ff = pd.read_csv(ff)\n",
        "d = 'https://raw.githubusercontent.com/PCHEN3/UvA/main/DE_data_long.csv'\n",
        "d = pd.read_csv(d)\n",
        "print(ff)\n",
        "print(d)"
      ],
      "execution_count": null,
      "outputs": []
    },
    {
      "cell_type": "markdown",
      "metadata": {
        "id": "8qVNGsLSFaNv"
      },
      "source": [
        "## Sorting portfolio"
      ]
    },
    {
      "cell_type": "code",
      "metadata": {
        "id": "Miv5YCE-FZ4O"
      },
      "source": [
        "d['RET11_lag2'] = d.groupby('ISIN')['RET11'].shift(2)\n",
        "d.head()\n",
        "\n",
        "def sortPort(x, quantiles = 10):\n",
        "  ranks = pd.qcut(x, quantiles, labels = False, duplicates = \"drop\") + 1\n",
        "  ranks = ranks.apply(lambda x: f'p{int(x)}' if not pd.isnull(x) else x)\n",
        "  return ranks\n",
        "\n",
        "d['momport']=d.groupby(['mdate'])['RET11_lag2'].apply(lambda x: sortPort(x))\n",
        "print(d)"
      ],
      "execution_count": null,
      "outputs": []
    },
    {
      "cell_type": "markdown",
      "metadata": {
        "id": "gkh2yNXPFg4M"
      },
      "source": [
        "##Calculate momentum portfolio returns"
      ]
    },
    {
      "cell_type": "code",
      "metadata": {
        "id": "DSUyLxYZFlTf"
      },
      "source": [
        "d = d.groupby(['momport','mdate']).mean()['RET']\n",
        "d = d.reset_index()\n",
        "print(d.head())\n",
        "\n",
        "d = d.pivot(index = 'mdate', columns = 'momport', values = 'RET')\n",
        "d[\"WML\"] = d[\"p10\"] - d[\"p1\"]\n",
        "print(d.head())"
      ],
      "execution_count": null,
      "outputs": []
    },
    {
      "cell_type": "markdown",
      "metadata": {
        "id": "ywWpIh4XFrmj"
      },
      "source": [
        "##Analyze momentum returns"
      ]
    },
    {
      "cell_type": "code",
      "metadata": {
        "id": "iSuuHRL6FwgH"
      },
      "source": [
        "portfolios = d.merge(ff,on='mdate')\n",
        "print(portfolios.head(10))\n",
        "\n",
        "x = portfolios[['MktRf','HML','SMB']]\n",
        "x = sm.add_constant(x)\n",
        "reg = sm.OLS(portfolios['WML'],x).fit(cov_type = 'HAC', cov_kwds = {'maxlags':11})\n",
        "print(reg.summary())\n",
        "\n",
        "residuals = reg.resid\n",
        "sigma_epsilon = np.std(residuals)\n",
        "coefs = reg.params\n",
        "\n",
        "print('Standard Deviation of residuals = ', sigma_epsilon)\n",
        "print('Information Ratio = ', coefs[0]/sigma_epsilon*np.sqrt(12))\n",
        "print('Sharpe Ratio = ', np.sqrt(12)*np.mean(portfolios['WML'])/np.std(portfolios['WML']))\n"
      ],
      "execution_count": null,
      "outputs": []
    },
    {
      "cell_type": "markdown",
      "metadata": {
        "id": "9wD1CjFrFxrJ"
      },
      "source": [
        "##Plot cumulated returns"
      ]
    },
    {
      "cell_type": "code",
      "metadata": {
        "id": "DigwT0uptQOY"
      },
      "source": [
        "plotdata = portfolios.melt(id_vars = ['mdate'],var_name = \"portfolio\",  value_name = 'return') \n",
        "plotdata = plotdata.merge(ff[['Rf','mdate']],on = 'mdate')\n",
        "plotdata['mdate'] = plotdata['mdate'].apply(str)\n",
        "\n",
        "ports = ['WML','MktRf','HML','SMB']\n",
        "def conditions(plotdata):\n",
        "    if plotdata['portfolio'] in ports:\n",
        "      return 1+plotdata['return']+plotdata['Rf']\n",
        "    if plotdata['portfolio'] not in ports:\n",
        "      return 1+plotdata['return']\n",
        "\n",
        "plotdata['cumret'] = plotdata.apply(conditions, axis=1)\n",
        "\n",
        "initial_inv = plotdata.portfolio.unique()\n",
        "initial_inv = pd.DataFrame (initial_inv, columns = ['portfolio'])\n",
        "initial_inv['mdate'], initial_inv['return'], initial_inv['Rf'], initial_inv['cumret'] = ['199102', 'NA', 'NA', 1]\n",
        "\n",
        "plotdata = pd.concat([initial_inv, plotdata])\n",
        "plotdata['cumret'] = plotdata.groupby(['portfolio']).cumprod()\n",
        "\n",
        "plotdata['date'] = plotdata['mdate'].str[0:4].astype(str)+'-'+plotdata['mdate'].str[-2:].astype(str)+'-01'\n",
        "plotdata['date'] = pd.to_datetime(plotdata['date'])\n",
        "\n",
        "ports = ['WML','MktRf','HML','SMB','Rf']\n",
        "\n",
        "plotdata1 = plotdata[plotdata['portfolio'].isin(ports)]\n",
        "plotdata2 = plotdata[~plotdata['portfolio'].isin(ports)]\n",
        "\n",
        "from plotnine import *\n",
        "\n",
        "print(\n",
        "    ggplot(plotdata1)\n",
        "    + aes(x = 'date', y = 'cumret', color = 'portfolio')\n",
        "    + geom_line()\n",
        "    + xlab('Date')\n",
        "    + ylab('Portfolio value (USD)')\n",
        "    + scale_y_log10()\n",
        "    + scale_x_date(breaks = ('1 year'))\n",
        "    + theme(axis_text_x = element_text(rotation = 90))\n",
        ") \n",
        "\n",
        "print(\n",
        "    ggplot(plotdata2)\n",
        "    + aes(x = 'date', y = 'cumret', color = 'portfolio')\n",
        "    + geom_line()\n",
        "    + xlab('Date')\n",
        "    + ylab('Portfolio value (USD)')\n",
        "    + scale_y_log10()\n",
        "    + scale_x_date(breaks = ('1 year'))\n",
        "    + theme(axis_text_x = element_text(rotation = 90))\n",
        ") "
      ],
      "execution_count": null,
      "outputs": []
    }
  ]
}